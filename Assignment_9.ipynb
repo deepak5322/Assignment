{
 "cells": [
  {
   "cell_type": "markdown",
   "id": "5164a951-c189-4013-b788-a167780c6a91",
   "metadata": {},
   "source": [
    "### 1. To what does a relative path refer?"
   ]
  },
  {
   "cell_type": "markdown",
   "id": "a7a2c5cb-252a-4d02-b186-c83fdf488d96",
   "metadata": {},
   "source": [
    "#### os.path.relpath() method in Python is used to get a relative filepath to the given path either from the current working directory or from the given directory."
   ]
  },
  {
   "cell_type": "markdown",
   "id": "d8e2b13e-0649-4e48-a465-a027cc39dea9",
   "metadata": {},
   "source": [
    "### 2. What does an absolute path start with your operating system?"
   ]
  },
  {
   "cell_type": "markdown",
   "id": "8c6ff51b-160f-45b1-ac4b-11242688b91c",
   "metadata": {},
   "source": [
    "#### C:\\Windows\\calc.exe"
   ]
  },
  {
   "cell_type": "markdown",
   "id": "6b93684f-246a-4bb9-ae21-3ab58b8522b9",
   "metadata": {},
   "source": [
    "### 3. What do the functions os.getcwd() and os.chdir() do?"
   ]
  },
  {
   "cell_type": "markdown",
   "id": "c86b10ee-9426-4e45-ad9e-2d4ca9b4f987",
   "metadata": {},
   "source": [
    "#### getcwd() method is used to get the current working directory of a process.       os.chdir() method in Python used to change the current working directory to specified path. It takes only a single argument as new directory path."
   ]
  },
  {
   "cell_type": "markdown",
   "id": "21dfb273-6cc1-4377-a504-f823b101fc6c",
   "metadata": {},
   "source": [
    "### 4. What are the . and .. folders?"
   ]
  },
  {
   "cell_type": "markdown",
   "id": "e7b14d78-47c6-434e-8f68-89cfac953140",
   "metadata": {},
   "source": [
    "### 5. In C:\\bacon\\eggs\\spam.txt, which part is the dir name, and which part is the base name?"
   ]
  },
  {
   "cell_type": "markdown",
   "id": "208f6fdc-c06c-44b0-90ee-40e23de43f8a",
   "metadata": {},
   "source": [
    "dir name= C:\\bacon\\eggs\n",
    "base name = spam.txt"
   ]
  },
  {
   "cell_type": "markdown",
   "id": "0c1790b1-12ec-4b11-9f39-f495b1e389f3",
   "metadata": {},
   "source": [
    "### 6. What are the three “mode” arguments that can be passed to the open() function?"
   ]
  },
  {
   "cell_type": "markdown",
   "id": "cfa9ab2f-204a-4c0c-a627-f103f4795cc8",
   "metadata": {},
   "source": [
    "#### \"r\" - Read - Default value. Opens a file for reading, error if the file does not exist\n",
    "#### \"a\" - Append - Opens a file for appending, creates the file if it does not exist\n",
    "#### \"w\" - Write - Opens a file for writing, creates the file if it does not exist\n",
    "#### \"x\" - Create - Creates the specified file, returns an error if the file exist"
   ]
  },
  {
   "cell_type": "markdown",
   "id": "58e26c6e-68d2-45fb-8443-c791c7ae5ef8",
   "metadata": {},
   "source": [
    "### 7. What happens if an existing file is opened in write mode?"
   ]
  },
  {
   "cell_type": "markdown",
   "id": "986582a5-58da-4e4f-af53-424aa8ad8918",
   "metadata": {},
   "source": [
    "#### opens that file for writting contents"
   ]
  },
  {
   "cell_type": "markdown",
   "id": "f4466324-6b56-49f7-8bed-0aec7ba402cd",
   "metadata": {},
   "source": [
    "### 8. How do you tell the difference between read() and readlines()?"
   ]
  },
  {
   "cell_type": "markdown",
   "id": "25d39063-2c7d-40d4-81f6-ae2687aed009",
   "metadata": {},
   "source": [
    "#### By default the read() method returns the whole text, You can return one line by using the readline() method:"
   ]
  },
  {
   "cell_type": "markdown",
   "id": "d289a30a-9b38-4b27-a03e-ed8a48c6c487",
   "metadata": {},
   "source": [
    "### 9. What data structure does a shelf value resemble?"
   ]
  },
  {
   "cell_type": "markdown",
   "id": "cdfe153e-6252-4808-91e0-6f6def3ff531",
   "metadata": {},
   "source": [
    "#### A “shelf” is a persistent, dictionary-like object"
   ]
  },
  {
   "cell_type": "code",
   "execution_count": null,
   "id": "c6a20497-dc46-4d09-9b2c-4fcf13d4dbc0",
   "metadata": {},
   "outputs": [],
   "source": []
  }
 ],
 "metadata": {
  "kernelspec": {
   "display_name": "Python 3 (ipykernel)",
   "language": "python",
   "name": "python3"
  },
  "language_info": {
   "codemirror_mode": {
    "name": "ipython",
    "version": 3
   },
   "file_extension": ".py",
   "mimetype": "text/x-python",
   "name": "python",
   "nbconvert_exporter": "python",
   "pygments_lexer": "ipython3",
   "version": "3.10.6"
  }
 },
 "nbformat": 4,
 "nbformat_minor": 5
}
