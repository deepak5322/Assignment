{
 "cells": [
  {
   "cell_type": "markdown",
   "id": "a422f95a-3c5a-4a02-8cc2-896a32b37e8e",
   "metadata": {},
   "source": [
    "#### accept a phone number as input. validate it by checking the following conditions.\n",
    "1. the number should be exactly 10 digit long.\n",
    "2. the number should start with one of the digits 6,7,8,9\n",
    "3. no digit shoud appear more than 7 times.\n",
    "4. no digit should appear more than 5 time sin a row.\n",
    "5. Print valid if the phone number is valid. else invalid."
   ]
  },
  {
   "cell_type": "code",
   "execution_count": 4,
   "id": "cd42e912-c733-48f2-a72a-2911cf8ab2c9",
   "metadata": {},
   "outputs": [
    {
     "name": "stdin",
     "output_type": "stream",
     "text": [
      " 8762222247\n"
     ]
    },
    {
     "name": "stdout",
     "output_type": "stream",
     "text": [
      "valid\n"
     ]
    }
   ],
   "source": [
    "n = input()\n",
    "a = False\n",
    "if len(n)==10 and int(n[0])> 5 and n.isdigit():\n",
    "    for i in range(10):\n",
    "        if n.count(n[i]) < 7:\n",
    "            a = True\n",
    "            if n[i]*5 in n :\n",
    "                a = False\n",
    "                break\n",
    "            else:\n",
    "                break\n",
    "\n",
    "if a:\n",
    "    print(\"valid\")\n",
    "else:\n",
    "    print(\"invalid\")"
   ]
  },
  {
   "cell_type": "code",
   "execution_count": 5,
   "id": "ad9d5e92-213b-4695-ab67-abaf6612e30a",
   "metadata": {},
   "outputs": [],
   "source": [
    "def test(a,b,c,d,e):\n",
    "    return a,b,c,d,e"
   ]
  },
  {
   "cell_type": "code",
   "execution_count": 7,
   "id": "4f5fe6da-2dde-4973-a406-4c06650bfdf5",
   "metadata": {},
   "outputs": [
    {
     "data": {
      "text/plain": [
       "(10, 3, 5, 46, 54)"
      ]
     },
     "execution_count": 7,
     "metadata": {},
     "output_type": "execute_result"
    }
   ],
   "source": [
    "test(10,3,5,46,54)"
   ]
  },
  {
   "cell_type": "code",
   "execution_count": 8,
   "id": "71f5c582-3946-4727-9c40-0ce8409e8342",
   "metadata": {},
   "outputs": [],
   "source": [
    "def test1(*args):\n",
    "    return args"
   ]
  },
  {
   "cell_type": "code",
   "execution_count": 10,
   "id": "51915296-ba8c-4b74-b75a-91da6e242b5f",
   "metadata": {},
   "outputs": [
    {
     "data": {
      "text/plain": [
       "(10, 29, 876.65)"
      ]
     },
     "execution_count": 10,
     "metadata": {},
     "output_type": "execute_result"
    }
   ],
   "source": [
    "test1(10,29,876.65)\n"
   ]
  },
  {
   "cell_type": "code",
   "execution_count": 11,
   "id": "ebb18349-7b6a-4d9f-a317-552fe0c70254",
   "metadata": {},
   "outputs": [
    {
     "data": {
      "text/plain": [
       "([2, 3, 4, 5], (74, 34, 4, 'fghkj'))"
      ]
     },
     "execution_count": 11,
     "metadata": {},
     "output_type": "execute_result"
    }
   ],
   "source": [
    "test1([2,3,4,5],(74,34,4,'fghkj'))"
   ]
  },
  {
   "cell_type": "code",
   "execution_count": 1,
   "id": "de2a05c0-ee1e-4d98-9f84-b7afbc90e091",
   "metadata": {},
   "outputs": [],
   "source": [
    "def test2(*deep):\n",
    "    return deep"
   ]
  },
  {
   "cell_type": "code",
   "execution_count": 2,
   "id": "43e57aac-0b75-485b-8914-9adfd241fec8",
   "metadata": {},
   "outputs": [
    {
     "data": {
      "text/plain": [
       "(['hfh', 'deeoak', 45], 66, 'hyr')"
      ]
     },
     "execution_count": 2,
     "metadata": {},
     "output_type": "execute_result"
    }
   ],
   "source": [
    "test2 (['hfh','deeoak',45],66,'hyr')"
   ]
  },
  {
   "cell_type": "code",
   "execution_count": 6,
   "id": "979f1279-8010-4495-8f73-eda02430d034",
   "metadata": {},
   "outputs": [],
   "source": [
    "def test3(*num):\n",
    "    return test3"
   ]
  },
  {
   "cell_type": "code",
   "execution_count": 7,
   "id": "6feaf7a7-da64-4a22-a93d-1e886b829bec",
   "metadata": {},
   "outputs": [
    {
     "data": {
      "text/plain": [
       "<function __main__.test3(*num)>"
      ]
     },
     "execution_count": 7,
     "metadata": {},
     "output_type": "execute_result"
    }
   ],
   "source": [
    "test3(23,45,3,'jell')"
   ]
  },
  {
   "cell_type": "code",
   "execution_count": 3,
   "id": "fdb277b2-8c6b-4b05-94b2-8147a485733d",
   "metadata": {},
   "outputs": [],
   "source": [
    "def test(*deep,a):\n",
    "    return deep,a"
   ]
  },
  {
   "cell_type": "code",
   "execution_count": 4,
   "id": "361da551-fff4-4abc-9b64-35c868c83be3",
   "metadata": {},
   "outputs": [
    {
     "data": {
      "text/plain": [
       "((23, 43, 54, 223, 23), 'hello')"
      ]
     },
     "execution_count": 4,
     "metadata": {},
     "output_type": "execute_result"
    }
   ],
   "source": [
    "test(23,43,54,223,23,a='hello')"
   ]
  },
  {
   "cell_type": "code",
   "execution_count": 5,
   "id": "a40d2f8b-74c3-4b9c-826f-8b233945d7c2",
   "metadata": {},
   "outputs": [],
   "source": [
    "def test1(*deep,a,b,c,d):\n",
    "    return deep,a,b,c,d"
   ]
  },
  {
   "cell_type": "code",
   "execution_count": 8,
   "id": "cf8bb4aa-287d-4f1f-9228-dc044c7af16c",
   "metadata": {},
   "outputs": [
    {
     "data": {
      "text/plain": [
       "(([12, 34, 54, 222, 5543, 'kumar'],), 'hello', 'world', 100, 1000)"
      ]
     },
     "execution_count": 8,
     "metadata": {},
     "output_type": "execute_result"
    }
   ],
   "source": [
    "test1([12,34,54,222,5543,'kumar'],a='hello',b='world',c=100,d=1000)"
   ]
  },
  {
   "cell_type": "code",
   "execution_count": 9,
   "id": "6170e816-233d-4e72-8444-cf790c3bb257",
   "metadata": {},
   "outputs": [],
   "source": [
    "def test1(a,*deep):\n",
    "    return deep,a"
   ]
  },
  {
   "cell_type": "code",
   "execution_count": 11,
   "id": "cc7f7434-8663-4712-927a-680fce7f3b87",
   "metadata": {},
   "outputs": [
    {
     "ename": "TypeError",
     "evalue": "test1() got multiple values for argument 'a'",
     "output_type": "error",
     "traceback": [
      "\u001b[0;31m---------------------------------------------------------------------------\u001b[0m",
      "\u001b[0;31mTypeError\u001b[0m                                 Traceback (most recent call last)",
      "Cell \u001b[0;32mIn [11], line 1\u001b[0m\n\u001b[0;32m----> 1\u001b[0m \u001b[43mtest1\u001b[49m\u001b[43m(\u001b[49m\u001b[38;5;241;43m12\u001b[39;49m\u001b[43m,\u001b[49m\u001b[38;5;241;43m34\u001b[39;49m\u001b[43m,\u001b[49m\u001b[38;5;241;43m54\u001b[39;49m\u001b[43m,\u001b[49m\u001b[38;5;241;43m222\u001b[39;49m\u001b[43m,\u001b[49m\u001b[38;5;241;43m5543\u001b[39;49m\u001b[43m,\u001b[49m\u001b[38;5;124;43m'\u001b[39;49m\u001b[38;5;124;43mkumar\u001b[39;49m\u001b[38;5;124;43m'\u001b[39;49m\u001b[43m,\u001b[49m\u001b[43ma\u001b[49m\u001b[38;5;241;43m=\u001b[39;49m\u001b[38;5;124;43m'\u001b[39;49m\u001b[38;5;124;43mhello\u001b[39;49m\u001b[38;5;124;43m'\u001b[39;49m\u001b[43m)\u001b[49m\n",
      "\u001b[0;31mTypeError\u001b[0m: test1() got multiple values for argument 'a'"
     ]
    }
   ],
   "source": [
    "test1(12,34,54,222,5543,'kumar',a='hello')"
   ]
  },
  {
   "cell_type": "code",
   "execution_count": 21,
   "id": "a737f0f0-0749-4dc9-9a66-bd85dbb6255d",
   "metadata": {},
   "outputs": [
    {
     "data": {
      "text/plain": [
       "((34, 54, 222, 5543, 'kumar', 'hello'), 12)"
      ]
     },
     "execution_count": 21,
     "metadata": {},
     "output_type": "execute_result"
    }
   ],
   "source": [
    "def test1(a,*deep):\n",
    "    return deep,a\n",
    "test1(12,34,54,222,5543,'kumar','hello')"
   ]
  },
  {
   "cell_type": "code",
   "execution_count": null,
   "id": "748e96a1-a57e-4df9-8d57-93b3e4ffde2e",
   "metadata": {},
   "outputs": [],
   "source": []
  },
  {
   "cell_type": "code",
   "execution_count": 20,
   "id": "9af4c098-d83e-4ab0-9b08-e2b018e5852f",
   "metadata": {},
   "outputs": [
    {
     "data": {
      "text/plain": [
       "(12, (34, 54, 222, 5543, 'kumar', 'hello'))"
      ]
     },
     "execution_count": 20,
     "metadata": {},
     "output_type": "execute_result"
    }
   ],
   "source": [
    "def test1(a,*deep):\n",
    "    return a,deep\n",
    "test1(12,34,54,222,5543,'kumar','hello')"
   ]
  },
  {
   "cell_type": "code",
   "execution_count": 7,
   "id": "e826e1d8-65c4-47a1-a25c-ecc35d30dae1",
   "metadata": {},
   "outputs": [],
   "source": [
    "def test5(*args):\n",
    "    for i in args:\n",
    "        if type(i)== list:\n",
    "            return i"
   ]
  },
  {
   "cell_type": "code",
   "execution_count": 8,
   "id": "03cfc851-4eda-4871-9d48-98454aeba3d9",
   "metadata": {},
   "outputs": [
    {
     "data": {
      "text/plain": [
       "[23, 44, 'hello']"
      ]
     },
     "execution_count": 8,
     "metadata": {},
     "output_type": "execute_result"
    }
   ],
   "source": [
    "test5(23,34,23,[23,44,'hello'])"
   ]
  },
  {
   "cell_type": "code",
   "execution_count": 5,
   "id": "f4daa7f1-8e7f-4313-80f9-e22ab7fd2c11",
   "metadata": {},
   "outputs": [],
   "source": [
    "def test6(*args):\n",
    "    for i in args:\n",
    "        if type(i)==list:\n",
    "            return i\n",
    "    "
   ]
  },
  {
   "cell_type": "code",
   "execution_count": 10,
   "id": "a3b99673-e19d-4619-b2c1-d352127765ff",
   "metadata": {},
   "outputs": [
    {
     "data": {
      "text/plain": [
       "[100, 1000, 'hello']"
      ]
     },
     "execution_count": 10,
     "metadata": {},
     "output_type": "execute_result"
    }
   ],
   "source": [
    "test6(21,34,321,[100,1000,'hello'],'oneMoreList',[2,4,6,8,10])"
   ]
  },
  {
   "cell_type": "code",
   "execution_count": 15,
   "id": "db5733ae-1225-4c19-82e2-3a209ed1e7f4",
   "metadata": {},
   "outputs": [],
   "source": [
    "def test6(*args):\n",
    "    l=[]\n",
    "    for i in args:\n",
    "        if type(i)==list:\n",
    "            l.append(i)\n",
    "    return l"
   ]
  },
  {
   "cell_type": "code",
   "execution_count": 16,
   "id": "d3441f6b-b4e6-4c1c-93f8-e33ea6077502",
   "metadata": {},
   "outputs": [
    {
     "data": {
      "text/plain": [
       "[[100, 1000, 'hello'], [2, 4, 6, 8, 10]]"
      ]
     },
     "execution_count": 16,
     "metadata": {},
     "output_type": "execute_result"
    }
   ],
   "source": [
    "test6(21,34,321,[100,1000,'hello'],'oneMoreList',[2,4,6,8,10])"
   ]
  },
  {
   "cell_type": "markdown",
   "id": "9952acc3-eeb5-4308-b027-db85e577c6c8",
   "metadata": {},
   "source": [
    "## passing arguments in key value pair"
   ]
  },
  {
   "cell_type": "code",
   "execution_count": 17,
   "id": "f3cb2591-76c4-4f12-bcf2-3fddfa8c7566",
   "metadata": {},
   "outputs": [],
   "source": [
    "def test7(**kwargs):\n",
    "    return kwargs"
   ]
  },
  {
   "cell_type": "code",
   "execution_count": 18,
   "id": "1e8482f9-e0ec-4bf1-8d2a-49869bba2f3c",
   "metadata": {},
   "outputs": [
    {
     "ename": "TypeError",
     "evalue": "test7() takes 0 positional arguments but 4 were given",
     "output_type": "error",
     "traceback": [
      "\u001b[0;31m---------------------------------------------------------------------------\u001b[0m",
      "\u001b[0;31mTypeError\u001b[0m                                 Traceback (most recent call last)",
      "Cell \u001b[0;32mIn [18], line 1\u001b[0m\n\u001b[0;32m----> 1\u001b[0m \u001b[43mtest7\u001b[49m\u001b[43m(\u001b[49m\u001b[38;5;241;43m23\u001b[39;49m\u001b[43m,\u001b[49m\u001b[38;5;241;43m34\u001b[39;49m\u001b[43m,\u001b[49m\u001b[38;5;241;43m55\u001b[39;49m\u001b[43m,\u001b[49m\u001b[38;5;241;43m73\u001b[39;49m\u001b[43m)\u001b[49m\n",
      "\u001b[0;31mTypeError\u001b[0m: test7() takes 0 positional arguments but 4 were given"
     ]
    }
   ],
   "source": [
    "test7(23,34,55,73)"
   ]
  },
  {
   "cell_type": "code",
   "execution_count": 21,
   "id": "d17c1d74-723a-4775-8504-79c572bac5de",
   "metadata": {},
   "outputs": [],
   "source": [
    "def test7(**kwargs):\n",
    "    return kwargs"
   ]
  },
  {
   "cell_type": "code",
   "execution_count": 27,
   "id": "2c27589c-f528-4506-ad7e-ba89b2784905",
   "metadata": {},
   "outputs": [
    {
     "data": {
      "text/plain": [
       "{'a': 45, 'b': [2, 4, 6, 8]}"
      ]
     },
     "execution_count": 27,
     "metadata": {},
     "output_type": "execute_result"
    }
   ],
   "source": [
    "test7(a=45,b=[2,4,6,8])"
   ]
  },
  {
   "cell_type": "code",
   "execution_count": 25,
   "id": "f7400324-3d54-4b58-acb7-98abea47c827",
   "metadata": {},
   "outputs": [],
   "source": [
    "def test8(**kwargs):\n",
    "    return kwargs"
   ]
  },
  {
   "cell_type": "code",
   "execution_count": 26,
   "id": "5bff70bf-0af4-4121-8266-c140ab4c2ed7",
   "metadata": {},
   "outputs": [
    {
     "data": {
      "text/plain": [
       "{'a': 5, 'b': [3, 4, 5]}"
      ]
     },
     "execution_count": 26,
     "metadata": {},
     "output_type": "execute_result"
    }
   ],
   "source": [
    "test8(a=5,b=[3,4,5])"
   ]
  },
  {
   "cell_type": "code",
   "execution_count": 28,
   "id": "84acc6fc-badb-425d-b5c0-a332ec372d9d",
   "metadata": {},
   "outputs": [],
   "source": [
    "def test9(**deep):\n",
    "    return deep"
   ]
  },
  {
   "cell_type": "code",
   "execution_count": 29,
   "id": "aae5421d-6485-452d-91a5-cc6a61bac241",
   "metadata": {},
   "outputs": [
    {
     "data": {
      "text/plain": [
       "{'a': 10, 'b': (2, 4, 6), 'c': [53, 87, 90]}"
      ]
     },
     "execution_count": 29,
     "metadata": {},
     "output_type": "execute_result"
    }
   ],
   "source": [
    "test9(a=10,b = (2,4,6),c = [53,87,90])"
   ]
  },
  {
   "cell_type": "code",
   "execution_count": 32,
   "id": "bffd3c79-904a-4061-84a4-c84f14e8b66e",
   "metadata": {},
   "outputs": [],
   "source": [
    "def infoPerson(**deep):\n",
    "    return deep"
   ]
  },
  {
   "cell_type": "code",
   "execution_count": 33,
   "id": "60b5f076-e4b5-4895-b90f-055408bcaa65",
   "metadata": {},
   "outputs": [
    {
     "data": {
      "text/plain": [
       "{'name': 'deepak', 'age': 22, 'phoneNo': 11234, 'mail': 'dk@abc'}"
      ]
     },
     "execution_count": 33,
     "metadata": {},
     "output_type": "execute_result"
    }
   ],
   "source": [
    "infoPerson(name=\"deepak\",age = 22,phoneNo=11234,mail=\"dk@abc\")"
   ]
  },
  {
   "cell_type": "code",
   "execution_count": 36,
   "id": "0343e63c-8f66-4dca-9250-f82f89d5962a",
   "metadata": {},
   "outputs": [],
   "source": [
    "def test10(a,**deep):\n",
    "    return a,deep"
   ]
  },
  {
   "cell_type": "code",
   "execution_count": 37,
   "id": "1c86d760-eb14-4a91-80e2-47ed106912f4",
   "metadata": {},
   "outputs": [
    {
     "ename": "TypeError",
     "evalue": "test10() takes 1 positional argument but 7 were given",
     "output_type": "error",
     "traceback": [
      "\u001b[0;31m---------------------------------------------------------------------------\u001b[0m",
      "\u001b[0;31mTypeError\u001b[0m                                 Traceback (most recent call last)",
      "Cell \u001b[0;32mIn [37], line 1\u001b[0m\n\u001b[0;32m----> 1\u001b[0m \u001b[43mtest10\u001b[49m\u001b[43m(\u001b[49m\u001b[38;5;241;43m10\u001b[39;49m\u001b[43m,\u001b[49m\u001b[38;5;241;43m20\u001b[39;49m\u001b[43m,\u001b[49m\u001b[38;5;241;43m30\u001b[39;49m\u001b[43m,\u001b[49m\u001b[38;5;241;43m40\u001b[39;49m\u001b[43m,\u001b[49m\u001b[38;5;241;43m50\u001b[39;49m\u001b[43m,\u001b[49m\u001b[38;5;241;43m60\u001b[39;49m\u001b[43m,\u001b[49m\u001b[38;5;241;43m70\u001b[39;49m\u001b[43m)\u001b[49m\n",
      "\u001b[0;31mTypeError\u001b[0m: test10() takes 1 positional argument but 7 were given"
     ]
    }
   ],
   "source": [
    "test10(10,20,30,40,50,60,70)"
   ]
  },
  {
   "cell_type": "code",
   "execution_count": 38,
   "id": "c0b96ae9-8fdf-4a55-bffa-20a6232857a6",
   "metadata": {},
   "outputs": [
    {
     "data": {
      "text/plain": [
       "(10, {'b': 20, 'c': 30, 'd': 40, 'e': 50})"
      ]
     },
     "execution_count": 38,
     "metadata": {},
     "output_type": "execute_result"
    }
   ],
   "source": [
    "test10(10,b=20,c=30,d=40,e=50)"
   ]
  },
  {
   "cell_type": "code",
   "execution_count": 39,
   "id": "cecb4413-328d-49d3-921a-13593b07d60f",
   "metadata": {},
   "outputs": [],
   "source": [
    "def test10(a,**deep):\n",
    "    return deep,a"
   ]
  },
  {
   "cell_type": "code",
   "execution_count": 40,
   "id": "38b7b5b8-cd5b-4c3c-b476-d5f13f2e8a19",
   "metadata": {},
   "outputs": [
    {
     "data": {
      "text/plain": [
       "({'b': 20, 'c': 30, 'd': 40, 'e': 50}, 10)"
      ]
     },
     "execution_count": 40,
     "metadata": {},
     "output_type": "execute_result"
    }
   ],
   "source": [
    "test10(10,b=20,c=30,d=40,e=50)"
   ]
  },
  {
   "cell_type": "code",
   "execution_count": null,
   "id": "c5c03a64-e82f-4dc7-acda-da08b06c0f8d",
   "metadata": {},
   "outputs": [],
   "source": []
  }
 ],
 "metadata": {
  "kernelspec": {
   "display_name": "Python 3 (ipykernel)",
   "language": "python",
   "name": "python3"
  },
  "language_info": {
   "codemirror_mode": {
    "name": "ipython",
    "version": 3
   },
   "file_extension": ".py",
   "mimetype": "text/x-python",
   "name": "python",
   "nbconvert_exporter": "python",
   "pygments_lexer": "ipython3",
   "version": "3.10.6"
  }
 },
 "nbformat": 4,
 "nbformat_minor": 5
}
