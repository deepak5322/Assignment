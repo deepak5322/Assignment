{
 "cells": [
  {
   "cell_type": "markdown",
   "id": "fbd1abe4-1a56-450a-a3dc-c93033a340f9",
   "metadata": {},
   "source": [
    "### 1. Write a Python Program to Display Fibonacci Sequence Using Recursion?"
   ]
  },
  {
   "cell_type": "code",
   "execution_count": 2,
   "id": "e32fc707-e442-4946-8539-0079514e09ff",
   "metadata": {},
   "outputs": [
    {
     "name": "stdout",
     "output_type": "stream",
     "text": [
      "Fibonacci sequence:\n",
      "0 1 1 2 3 5 8 13 21 34 "
     ]
    }
   ],
   "source": [
    "# Python program to display the Fibonacci sequence\n",
    "\n",
    "def recur_fibo(n):\n",
    "   if n <= 1:\n",
    "       return n\n",
    "   else:\n",
    "       return(recur_fibo(n-1) + recur_fibo(n-2))\n",
    "\n",
    "nterms = 10\n",
    "\n",
    "# check if the number of terms is valid\n",
    "if nterms <= 0:\n",
    "   print(\"Plese enter a positive integer\")\n",
    "else:\n",
    "   print(\"Fibonacci sequence:\")\n",
    "   for i in range(nterms):\n",
    "       print(recur_fibo(i),end=\" \")\n"
   ]
  },
  {
   "cell_type": "markdown",
   "id": "dd57406a-2699-4ced-90c1-47b612094c29",
   "metadata": {},
   "source": [
    "### 2. Write a Python Program to Find Factorial of Number Using Recursion?"
   ]
  },
  {
   "cell_type": "code",
   "execution_count": 4,
   "id": "3885ae6f-2ff6-40b7-9e2d-bba257e3dd34",
   "metadata": {},
   "outputs": [
    {
     "name": "stdout",
     "output_type": "stream",
     "text": [
      "Factorial of 5 is 120\n"
     ]
    }
   ],
   "source": [
    "def factorial(n):\n",
    "\t\n",
    "\t# single line to find factorial\n",
    "\treturn 1 if (n==1 or n==0) else n * factorial(n - 1);\n",
    "\n",
    "# Driver Code\n",
    "num = 5;\n",
    "print(\"Factorial of\",num,\"is\",\n",
    "factorial(num))\n"
   ]
  },
  {
   "cell_type": "markdown",
   "id": "3882058c-1e9b-4478-8e78-ac021dfe32b3",
   "metadata": {},
   "source": [
    "### 3. Write a Python Program to calculate your Body Mass Index?"
   ]
  },
  {
   "cell_type": "code",
   "execution_count": 5,
   "id": "b5de107d-c328-4fb1-b3da-712deec34f08",
   "metadata": {},
   "outputs": [
    {
     "name": "stdin",
     "output_type": "stream",
     "text": [
      "Input your height in Feet:  5.3\n",
      "Input your weight in Kilogram:  43\n"
     ]
    },
    {
     "name": "stdout",
     "output_type": "stream",
     "text": [
      "Your body mass index is:  1.53\n"
     ]
    }
   ],
   "source": [
    "height = float(input(\"Input your height in Feet: \"))\n",
    "weight = float(input(\"Input your weight in Kilogram: \"))\n",
    "print(\"Your body mass index is: \", round(weight / (height * height), 2))\n"
   ]
  },
  {
   "cell_type": "markdown",
   "id": "d11c7da8-3561-49e7-92f6-a946b22a97b2",
   "metadata": {},
   "source": [
    "### 4. Write a Python Program to calculate the natural logarithm of any number?"
   ]
  },
  {
   "cell_type": "code",
   "execution_count": 6,
   "id": "1d40d19a-9f9c-47ab-80bb-c7aca4b202cd",
   "metadata": {},
   "outputs": [
    {
     "name": "stdout",
     "output_type": "stream",
     "text": [
      "Natural logarithm of 14 is : 2.6390573296152584\n",
      "Logarithm base 5 of 14 is : 1.6397385131955606\n"
     ]
    }
   ],
   "source": [
    "import math\n",
    "print (\"Natural logarithm of 14 is : \", end=\"\")\n",
    "print (math.log(14))\n",
    "\n",
    "\n",
    "print (\"Logarithm base 5 of 14 is : \", end=\"\")\n",
    "print (math.log(14,5))\n"
   ]
  },
  {
   "cell_type": "markdown",
   "id": "b2d9ac1b-cb28-429e-8d0b-c22152c8509e",
   "metadata": {},
   "source": [
    "### 5. Write a Python Program for cube sum of first n natural numbers?"
   ]
  },
  {
   "cell_type": "code",
   "execution_count": null,
   "id": "d98be914-51e1-4d35-97d0-03fef3f61af1",
   "metadata": {},
   "outputs": [],
   "source": [
    "def sumOfSeries(n):\n",
    "\tsum = 0\n",
    "\tfor i in range(1, n+1):\n",
    "\t\tsum +=pow(i,3)\n",
    "\t\t\n",
    "\treturn sum\n",
    "\n",
    "\n",
    "# Driver Function\n",
    "n = 5\n",
    "print(sumOfSeries(n))\n",
    "\n",
    "# Code Contributed by Lokesh Sharma;\n"
   ]
  }
 ],
 "metadata": {
  "kernelspec": {
   "display_name": "Python 3 (ipykernel)",
   "language": "python",
   "name": "python3"
  },
  "language_info": {
   "codemirror_mode": {
    "name": "ipython",
    "version": 3
   },
   "file_extension": ".py",
   "mimetype": "text/x-python",
   "name": "python",
   "nbconvert_exporter": "python",
   "pygments_lexer": "ipython3",
   "version": "3.10.6"
  }
 },
 "nbformat": 4,
 "nbformat_minor": 5
}
