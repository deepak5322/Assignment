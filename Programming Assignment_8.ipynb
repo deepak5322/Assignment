{
 "cells": [
  {
   "cell_type": "markdown",
   "id": "b2228bee-2739-4fc0-906b-0a108162da27",
   "metadata": {},
   "source": [
    "### 1. Write a Python Program to Add Two Matrices?"
   ]
  },
  {
   "cell_type": "code",
   "execution_count": 1,
   "id": "75b2b09f-99f7-4e75-ae1c-7579eab485bd",
   "metadata": {},
   "outputs": [
    {
     "name": "stdout",
     "output_type": "stream",
     "text": [
      "[17, 15, 4]\n",
      "[10, 12, 9]\n",
      "[11, 13, 18]\n"
     ]
    }
   ],
   "source": [
    "X = [[12,7,3],\n",
    "    [4 ,5,6],\n",
    "    [7 ,8,9]]\n",
    "\n",
    "Y = [[5,8,1],\n",
    "    [6,7,3],\n",
    "    [4,5,9]]\n",
    "\n",
    "result = [[0,0,0],\n",
    "         [0,0,0],\n",
    "         [0,0,0]]\n",
    "\n",
    "# iterate through rows\n",
    "for i in range(len(X)):\n",
    "   # iterate through columns\n",
    "   for j in range(len(X[0])):\n",
    "       result[i][j] = X[i][j] + Y[i][j]\n",
    "\n",
    "for r in result:\n",
    "   print(r)\n"
   ]
  },
  {
   "cell_type": "markdown",
   "id": "d8ff46f2-86dc-47f0-afa9-e30992f96356",
   "metadata": {},
   "source": [
    "### 2. Write a Python Program to Multiply Two Matrices?"
   ]
  },
  {
   "cell_type": "code",
   "execution_count": 2,
   "id": "361e0521-f6f8-47f1-8d60-06a227f7e517",
   "metadata": {},
   "outputs": [
    {
     "name": "stdout",
     "output_type": "stream",
     "text": [
      "[114, 160, 60, 27]\n",
      "[74, 97, 73, 14]\n",
      "[119, 157, 112, 23]\n"
     ]
    }
   ],
   "source": [
    "# 3x3 matrix\n",
    "X = [[12,7,3],\n",
    "    [4 ,5,6],\n",
    "    [7 ,8,9]]\n",
    "# 3x4 matrix\n",
    "Y = [[5,8,1,2],\n",
    "    [6,7,3,0],\n",
    "    [4,5,9,1]]\n",
    "# result is 3x4\n",
    "result = [[0,0,0,0],\n",
    "         [0,0,0,0],\n",
    "         [0,0,0,0]]\n",
    "\n",
    "# iterate through rows of X\n",
    "for i in range(len(X)):\n",
    "   # iterate through columns of Y\n",
    "   for j in range(len(Y[0])):\n",
    "       # iterate through rows of Y\n",
    "       for k in range(len(Y)):\n",
    "           result[i][j] += X[i][k] * Y[k][j]\n",
    "\n",
    "for r in result:\n",
    "   print(r)\n"
   ]
  },
  {
   "cell_type": "markdown",
   "id": "de689b5e-7306-428e-82bb-1e90867cfce3",
   "metadata": {},
   "source": [
    "### 3. Write a Python Program to Transpose a Matrix?"
   ]
  },
  {
   "cell_type": "code",
   "execution_count": 3,
   "id": "bdcd684b-e6f7-46cb-aac1-0aac7fca161b",
   "metadata": {},
   "outputs": [
    {
     "name": "stdout",
     "output_type": "stream",
     "text": [
      "[12, 4, 3]\n",
      "[7, 5, 8]\n"
     ]
    }
   ],
   "source": [
    "X = [[12,7],\n",
    "    [4 ,5],\n",
    "    [3 ,8]]\n",
    "\n",
    "result = [[0,0,0],\n",
    "         [0,0,0]]\n",
    "\n",
    "# iterate through rows\n",
    "for i in range(len(X)):\n",
    "   # iterate through columns\n",
    "   for j in range(len(X[0])):\n",
    "       result[j][i] = X[i][j]\n",
    "\n",
    "for r in result:\n",
    "   print(r)\n"
   ]
  },
  {
   "cell_type": "markdown",
   "id": "452b9245-659d-4d4b-8124-01f2f44b56b1",
   "metadata": {},
   "source": [
    "### 4. Write a Python Program to Sort Words in Alphabetic Order?"
   ]
  },
  {
   "cell_type": "code",
   "execution_count": 4,
   "id": "7b2e78c0-a5a6-40f8-a7a4-618e560ba741",
   "metadata": {},
   "outputs": [
    {
     "name": "stdout",
     "output_type": "stream",
     "text": [
      "The sorted words are:\n",
      "an\n",
      "cased\n",
      "example\n",
      "hello\n",
      "is\n",
      "letters\n",
      "this\n",
      "with\n"
     ]
    }
   ],
   "source": [
    "my_str = \"Hello this Is an Example With cased letters\"\n",
    "\n",
    "words = [word.lower() for word in my_str.split()]\n",
    "\n",
    "# sort the list\n",
    "words.sort()\n",
    "\n",
    "# display the sorted words\n",
    "\n",
    "print(\"The sorted words are:\")\n",
    "for word in words:\n",
    "   print(word)\n"
   ]
  },
  {
   "cell_type": "markdown",
   "id": "e511ef40-4ea4-46a5-a5ca-d6a603dd938d",
   "metadata": {},
   "source": [
    "### 5. Write a Python Program to Remove Punctuation From a String?"
   ]
  },
  {
   "cell_type": "code",
   "execution_count": 5,
   "id": "30848609-79e2-476b-9ad4-2889458a3360",
   "metadata": {},
   "outputs": [
    {
     "name": "stdout",
     "output_type": "stream",
     "text": [
      "Hello he said and went\n"
     ]
    }
   ],
   "source": [
    "# define punctuation\n",
    "punctuations = '''!()-[]{};:'\"\\,<>./?@#$%^&*_~'''\n",
    "\n",
    "my_str = \"Hello!!!, he said ---and went.\"\n",
    "\n",
    "# To take input from the user\n",
    "# my_str = input(\"Enter a string: \")\n",
    "\n",
    "# remove punctuation from the string\n",
    "no_punct = \"\"\n",
    "for char in my_str:\n",
    "   if char not in punctuations:\n",
    "       no_punct = no_punct + char\n",
    "\n",
    "# display the unpunctuated string\n",
    "print(no_punct)\n"
   ]
  },
  {
   "cell_type": "code",
   "execution_count": null,
   "id": "45d2d5fa-6439-4d40-ae44-955d0a068446",
   "metadata": {},
   "outputs": [],
   "source": []
  }
 ],
 "metadata": {
  "kernelspec": {
   "display_name": "Python 3 (ipykernel)",
   "language": "python",
   "name": "python3"
  },
  "language_info": {
   "codemirror_mode": {
    "name": "ipython",
    "version": 3
   },
   "file_extension": ".py",
   "mimetype": "text/x-python",
   "name": "python",
   "nbconvert_exporter": "python",
   "pygments_lexer": "ipython3",
   "version": "3.10.6"
  }
 },
 "nbformat": 4,
 "nbformat_minor": 5
}
