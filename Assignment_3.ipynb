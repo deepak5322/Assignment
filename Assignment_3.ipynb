{
 "cells": [
  {
   "cell_type": "markdown",
   "id": "e3182818",
   "metadata": {},
   "source": [
    "### 1. Why are functions advantageous to have in your programs?"
   ]
  },
  {
   "cell_type": "markdown",
   "id": "7a64645f",
   "metadata": {},
   "source": [
    "#### By including functions, we can prevent repeating the same code block repeatedly in a program.\n",
    "\n",
    "#### Python functions, once defined, can be called many times and from anywhere in a program.\n",
    "\n",
    "#### If our Python program is large, it can be separated into numerous functions which is simple to track.\n",
    "\n",
    "#### The key accomplishment of Python functions is we can return as many outputs as we want with different arguments."
   ]
  },
  {
   "cell_type": "markdown",
   "id": "00922f76",
   "metadata": {},
   "source": [
    "### 2. When does the code in a function run: when it&#39;s specified or when it&#39;s called?"
   ]
  },
  {
   "cell_type": "markdown",
   "id": "72aa9e2e",
   "metadata": {},
   "source": [
    "#### a function run when it's called"
   ]
  },
  {
   "cell_type": "markdown",
   "id": "b8db4671",
   "metadata": {},
   "source": [
    "### 3. What statement creates a function?\n",
    "def statement is used to creat a function"
   ]
  },
  {
   "cell_type": "markdown",
   "id": "a603740f",
   "metadata": {},
   "source": [
    "### 4. What is the difference between a function and a function call?\n",
    "A function is a block of codes which  performs some specific task when it's called.We can create a  Python function using the def keyword.\n",
    "\n",
    "After creating a function we can call it by using the name of the function followed by parenthesis containing parameters of that particular function."
   ]
  },
  {
   "cell_type": "markdown",
   "id": "bd419b18",
   "metadata": {},
   "source": [
    "### 5. How many global scopes are there in a Python program? How many local scopes?\n",
    "At any given time during execution, you’ll have at most four active Python scopes—local, enclosing, global, and built-in—depending on where you are in the code.\n",
    "On the other hand, you’ll always have at least two active scopes, which are the global and built-in scopes. These two scopes will always be available for you.\n",
    "The local scope or function scope is a Python scope created at function calls. Every time you call a function, you’re also creating a new local scope."
   ]
  },
  {
   "cell_type": "markdown",
   "id": "2adfb2fa",
   "metadata": {},
   "source": [
    "### 6. What happens to variables in a local scope when the function call returns?\n",
    "\n",
    "When the execution of the function terminates (returns), the local scopes are destroyed."
   ]
  },
  {
   "cell_type": "markdown",
   "id": "b39766ac",
   "metadata": {},
   "source": [
    "### 7. What is the concept of a return value? Is it possible to have a return value in an expression?\n",
    "\n",
    "The function return statement is used to exit from a function and go back to the function caller and return the specified value or data item to the caller. \n",
    "\n",
    "The return statement can consist of a variable, an expression, or a constant which is returned to the end of the function execution."
   ]
  },
  {
   "cell_type": "markdown",
   "id": "95b6312a",
   "metadata": {},
   "source": [
    "### 8. If a function does not have a return statement, what is the return value of a call to that function?\n",
    "\n",
    "If a function does not have a return statement,then None object is returned."
   ]
  },
  {
   "cell_type": "markdown",
   "id": "62cd2f67",
   "metadata": {},
   "source": [
    "### 9. How do you make a function variable refer to the global variable?\n",
    "\n",
    "Normally, when you create a variable inside a function, that variable is local, and can only be used inside that function. To create a global variable inside a function, you can use the global keyword."
   ]
  },
  {
   "cell_type": "markdown",
   "id": "8dc11aca",
   "metadata": {},
   "source": [
    "### 10. What is the data type of None?\n",
    "\n",
    "It is a data type of the class NoneType object. "
   ]
  },
  {
   "cell_type": "markdown",
   "id": "aebf23c7",
   "metadata": {},
   "source": [
    "### 11. What does the sentence import areallyourpetsnamederic do?\n",
    "\n",
    "When the import is used, it searches for the module initially in the local scope by calling  areallyourpetsnamederic function. The value returned by the function is then reflected in the output of the initial code. \n",
    "\n"
   ]
  },
  {
   "cell_type": "markdown",
   "id": "d609e00b",
   "metadata": {},
   "source": [
    "### 12. If you had a bacon() feature in a spam module, what would you call it after importing spam?\n",
    "\n",
    "function"
   ]
  },
  {
   "cell_type": "markdown",
   "id": "99e14fd3",
   "metadata": {},
   "source": [
    "### 13. What can you do to save a programme from crashing if it encounters an error?\n",
    "\n",
    "In Python, we use the try and except statements to handle exceptions. Whenever the code breaks down, an exception is thrown without crashing the program.\n",
    "When it encounters an error, the control is passed to the except block, skipping the code in between.\n",
    "\n",
    "we  move our code inside a try and except statement. Try running the program and it should throw an error message instead of crashing the program. "
   ]
  },
  {
   "cell_type": "markdown",
   "id": "6055583c",
   "metadata": {},
   "source": [
    "### 14. What is the purpose of the try clause? What is the purpose of the except clause?\n",
    "\n",
    "The try block lets you test a block of code for errors. The except block lets you handle the error"
   ]
  },
  {
   "cell_type": "code",
   "execution_count": null,
   "id": "a15763fe",
   "metadata": {},
   "outputs": [],
   "source": []
  }
 ],
 "metadata": {
  "kernelspec": {
   "display_name": "Python 3 (ipykernel)",
   "language": "python",
   "name": "python3"
  },
  "language_info": {
   "codemirror_mode": {
    "name": "ipython",
    "version": 3
   },
   "file_extension": ".py",
   "mimetype": "text/x-python",
   "name": "python",
   "nbconvert_exporter": "python",
   "pygments_lexer": "ipython3",
   "version": "3.9.12"
  }
 },
 "nbformat": 4,
 "nbformat_minor": 5
}
