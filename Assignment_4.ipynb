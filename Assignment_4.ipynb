{
 "cells": [
  {
   "cell_type": "markdown",
   "id": "57351b50-9848-4cdf-9986-038316cf895d",
   "metadata": {},
   "source": [
    "1. What exactly is []?"
   ]
  },
  {
   "cell_type": "markdown",
   "id": "a328c362-ee80-43b5-9bef-a44c57f553bf",
   "metadata": {},
   "source": [
    "[]- square brackets  are used to creat list"
   ]
  },
  {
   "cell_type": "markdown",
   "id": "0dfc94cf-da10-45ec-8c38-d186010f32d3",
   "metadata": {},
   "source": [
    "2. In a list of values stored in a variable called spam, how would you assign the value &#39;hello&#39; as the\n",
    "third value? (Assume [2, 4, 6, 8, 10] are in spam.)"
   ]
  },
  {
   "cell_type": "code",
   "execution_count": 1,
   "id": "e02fd790-bb23-4403-8af5-480d3a0d7e48",
   "metadata": {},
   "outputs": [
    {
     "name": "stdout",
     "output_type": "stream",
     "text": [
      "hello\n"
     ]
    }
   ],
   "source": [
    "spam = [2,4,6,8,10]\n",
    "spam[2] = 'hello'\n",
    "print(spam[2])"
   ]
  },
  {
   "cell_type": "markdown",
   "id": "9aea37d0-6be5-4e69-991b-4164fca353d2",
   "metadata": {},
   "source": [
    "Let&#39;s pretend the spam includes the list ['a','b','c','d'] for the next three queries.\n",
    "\n",
    "3. What is the value of spam[int('3'*2)/11]"
   ]
  },
  {
   "cell_type": "code",
   "execution_count": 5,
   "id": "dd7df4f6-ad44-4fd5-a700-7d5f07377798",
   "metadata": {},
   "outputs": [
    {
     "data": {
      "text/plain": [
       "'a'"
      ]
     },
     "execution_count": 5,
     "metadata": {},
     "output_type": "execute_result"
    }
   ],
   "source": [
    "spam =  ['a','b','c','d']\n",
    "spam[int(int(3*2)/11)]"
   ]
  },
  {
   "cell_type": "markdown",
   "id": "eb7ebf2b-fcce-45a4-949a-47e759212cf7",
   "metadata": {},
   "source": [
    "4. What is the value of spam[-1]?"
   ]
  },
  {
   "cell_type": "code",
   "execution_count": 6,
   "id": "da4f02de-9c12-41ea-8e4d-bc00708c1c0e",
   "metadata": {},
   "outputs": [
    {
     "data": {
      "text/plain": [
       "'d'"
      ]
     },
     "execution_count": 6,
     "metadata": {},
     "output_type": "execute_result"
    }
   ],
   "source": [
    "spam[-1]"
   ]
  },
  {
   "cell_type": "markdown",
   "id": "da5b5bed-6cd1-4820-8d56-ca992ba0149c",
   "metadata": {},
   "source": [
    "5. What is the value of spam[:2]?"
   ]
  },
  {
   "cell_type": "code",
   "execution_count": 7,
   "id": "1ba51e84-dcea-405f-a939-23797a530771",
   "metadata": {},
   "outputs": [
    {
     "data": {
      "text/plain": [
       "['a', 'b']"
      ]
     },
     "execution_count": 7,
     "metadata": {},
     "output_type": "execute_result"
    }
   ],
   "source": [
    "spam[:2]"
   ]
  },
  {
   "cell_type": "markdown",
   "id": "2d78a3bd-ea53-4011-9d26-dfd2633bf757",
   "metadata": {},
   "source": [
    "Let's pretend bacon has the list [3.14, 'cat',  11,'cat' ,True] for the next three questions."
   ]
  },
  {
   "cell_type": "markdown",
   "id": "d0b7c175-244a-4218-9d66-337247349b1e",
   "metadata": {},
   "source": [
    "6. What is the value of bacon.index('cat')?"
   ]
  },
  {
   "cell_type": "code",
   "execution_count": 11,
   "id": "98ba40d7-146a-41e0-9588-9befed48903a",
   "metadata": {},
   "outputs": [
    {
     "data": {
      "text/plain": [
       "1"
      ]
     },
     "execution_count": 11,
     "metadata": {},
     "output_type": "execute_result"
    }
   ],
   "source": [
    "bacon =  [3.14, 'cat', 11,'cat' ,True] \n",
    "bacon.index(\"cat\")"
   ]
  },
  {
   "cell_type": "markdown",
   "id": "a6f81f0d-7b18-487b-a328-ece8d23dcde2",
   "metadata": {},
   "source": [
    "7.How does bacon.append(99) change the look of the list value in bacon?"
   ]
  },
  {
   "cell_type": "code",
   "execution_count": 21,
   "id": "384eae9a-a4f0-41c3-a59f-e2a44a233f93",
   "metadata": {},
   "outputs": [
    {
     "data": {
      "text/plain": [
       "[3.14, 'cat', 11, 'cat', True, 99]"
      ]
     },
     "execution_count": 21,
     "metadata": {},
     "output_type": "execute_result"
    }
   ],
   "source": [
    "bacon.append(99)\n",
    "bacon"
   ]
  },
  {
   "cell_type": "markdown",
   "id": "720d0da4-7163-4e8d-a794-02ef2d6ed829",
   "metadata": {},
   "source": [
    "8. How does bacon.remove('cat') change the look of the list in bacon?"
   ]
  },
  {
   "cell_type": "code",
   "execution_count": 23,
   "id": "7356c391-5462-4845-9e4f-8670f0b18676",
   "metadata": {},
   "outputs": [
    {
     "data": {
      "text/plain": [
       "[3.14, 11, True, 99]"
      ]
     },
     "execution_count": 23,
     "metadata": {},
     "output_type": "execute_result"
    }
   ],
   "source": [
    "bacon.remove('cat')\n",
    "bacon"
   ]
  },
  {
   "cell_type": "markdown",
   "id": "383dd4cd-aa29-4f4b-81c0-27fc701895f5",
   "metadata": {},
   "source": [
    "9. What are the list concatenation and list replication operators?"
   ]
  },
  {
   "cell_type": "markdown",
   "id": "b8419331-f05a-4f82-a9fe-d931004e661d",
   "metadata": {},
   "source": [
    "The operator for list concatenation is +, while the operator for replication is *"
   ]
  },
  {
   "cell_type": "markdown",
   "id": "9ebfdf42-e310-434b-9774-9548fc973269",
   "metadata": {},
   "source": [
    "10. What is difference between the list methods append() and insert()?"
   ]
  },
  {
   "cell_type": "markdown",
   "id": "79a0e3e7-f6d4-4970-8670-10d0451fabec",
   "metadata": {},
   "source": [
    "append() adds an item to the end of a list, whereas . insert() inserts and item in a specified position in the list"
   ]
  },
  {
   "cell_type": "markdown",
   "id": "9804b34e-9e01-4731-b545-2d8f3cf8a6da",
   "metadata": {},
   "source": [
    "11. What are the two methods for removing items from a list?"
   ]
  },
  {
   "cell_type": "markdown",
   "id": "f88c311b-ff32-4930-a89c-562c10011d51",
   "metadata": {},
   "source": [
    "Two methods to remove items from a list : remone() , pop()"
   ]
  },
  {
   "cell_type": "markdown",
   "id": "765ba4b8-84e9-461c-b995-01b9f015b45a",
   "metadata": {},
   "source": [
    "12. Describe how list values and string values are identical."
   ]
  },
  {
   "cell_type": "markdown",
   "id": "113d1766-a567-4966-97f1-341ed32131bb",
   "metadata": {},
   "source": [
    "The values that make up a list are called its elements. Lists are similar to strings, which are ordered collections of characters, except that the elements of a list can have any type and for any one list, the items can be of different types."
   ]
  },
  {
   "cell_type": "markdown",
   "id": "aa7860ff-6070-4935-8913-155eed8a341d",
   "metadata": {},
   "source": [
    "13. What's the difference between tuples and lists?"
   ]
  },
  {
   "cell_type": "markdown",
   "id": "19cd69a7-62ff-4473-b689-3976c3607fc5",
   "metadata": {},
   "source": [
    " list are mutable whereas tuples are immutable.\n",
    " list consumes more memory as compared to a tuple.\n",
    " list have more built in methods,A tuple does not have many built-in methods because of immutability."
   ]
  },
  {
   "cell_type": "markdown",
   "id": "1e61b38c-4390-4c85-be89-105cc5d49fd3",
   "metadata": {},
   "source": [
    "14. How do you type a tuple value that only contains the integer 42?"
   ]
  },
  {
   "cell_type": "code",
   "execution_count": 29,
   "id": "f76af293-89cc-4628-8c71-00107e9bf030",
   "metadata": {},
   "outputs": [],
   "source": [
    "mytuple = (43,)"
   ]
  },
  {
   "cell_type": "code",
   "execution_count": 30,
   "id": "03f6459c-6322-45d8-af6e-5bc7084e57d7",
   "metadata": {},
   "outputs": [
    {
     "data": {
      "text/plain": [
       "tuple"
      ]
     },
     "execution_count": 30,
     "metadata": {},
     "output_type": "execute_result"
    }
   ],
   "source": [
    "type(mytuple)"
   ]
  },
  {
   "cell_type": "markdown",
   "id": "04e00fad-2995-4a25-a7dc-7074eb6d478e",
   "metadata": {},
   "source": [
    "15. How do you get a list value's tuple form? How do you get a tuple value's list form?"
   ]
  },
  {
   "cell_type": "code",
   "execution_count": 34,
   "id": "cd99a6fd-e930-4c38-b09e-f54bfe57c454",
   "metadata": {},
   "outputs": [
    {
     "name": "stdout",
     "output_type": "stream",
     "text": [
      "<class 'list'>\n",
      "tuple form :  (2, 3, 4, 5) <class 'tuple'>\n"
     ]
    }
   ],
   "source": [
    "my_list = [2,3,4,5]\n",
    "print(type(my_list))\n",
    "my_tuple = tuple(my_list)\n",
    "print('tuple form : ',my_tuple,type(my_tuple))"
   ]
  },
  {
   "cell_type": "code",
   "execution_count": 35,
   "id": "0cdcf6fc-f585-4caf-a963-287e63670a95",
   "metadata": {},
   "outputs": [
    {
     "name": "stdout",
     "output_type": "stream",
     "text": [
      "<class 'tuple'>\n",
      "list form :  [6, 7, 8, 9] <class 'list'>\n"
     ]
    }
   ],
   "source": [
    "my_tuple1 = (6,7,8,9)\n",
    "print(type(my_tuple1))\n",
    "my_list1 = list(my_tuple1)\n",
    "print('list form : ' , my_list1, type(my_list1))\n"
   ]
  },
  {
   "cell_type": "markdown",
   "id": "3585b7c4-52ed-4874-bf57-908f0b603a11",
   "metadata": {},
   "source": [
    "16. Variables that \"contain\" list values are not necessarily lists themselves. Instead, what do they\n",
    "contain?"
   ]
  },
  {
   "cell_type": "markdown",
   "id": "2c1b0153-a4b2-4aa3-bab9-94ec6c459fe9",
   "metadata": {},
   "source": [
    "A variable that contain a list values may not be a list themselves. they may be a tuple containing a list as its elements."
   ]
  },
  {
   "cell_type": "markdown",
   "id": "9c4d996b-c1de-46b8-b2cb-a64e184d16f1",
   "metadata": {},
   "source": [
    "17. How do you distinguish between copy.copy() and copy.deepcopy()?"
   ]
  },
  {
   "cell_type": "markdown",
   "id": "c7a9abb3-9e47-4b14-a26f-4d2a02c7fb52",
   "metadata": {},
   "source": [
    "The copy() returns a shallow copy of the list, and deepcopy() returns a deep copy of the list. As you can see that both have the same value but have different IDs."
   ]
  },
  {
   "cell_type": "code",
   "execution_count": 37,
   "id": "1e13a9ae-0bdf-4be7-bdd4-4e557e4396f7",
   "metadata": {},
   "outputs": [
    {
     "name": "stdout",
     "output_type": "stream",
     "text": [
      "li2 ID:  140253760871808 Value:  [1, 2, [3, 5], 4]\n",
      "li3 ID:  140253760875200 Value:  [1, 2, [3, 5], 4]\n"
     ]
    }
   ],
   "source": [
    "# importing copy module\n",
    "import copy\n",
    "\n",
    "# initializing list 1\n",
    "li1 = [1, 2, [3, 5], 4]\n",
    "\n",
    "# using copy for shallow copy\n",
    "li2 = copy.copy(li1)\n",
    "print(\"li2 ID: \", id(li2), \"Value: \", li2)\n",
    "# using deepcopy for deepcopy\n",
    "li3 = copy.deepcopy(li1)\n",
    "print(\"li3 ID: \", id(li3), \"Value: \", li3)\n"
   ]
  },
  {
   "cell_type": "code",
   "execution_count": null,
   "id": "e9f85511-c5df-430a-a7ed-c2f183816e76",
   "metadata": {},
   "outputs": [],
   "source": []
  }
 ],
 "metadata": {
  "kernelspec": {
   "display_name": "Python 3 (ipykernel)",
   "language": "python",
   "name": "python3"
  },
  "language_info": {
   "codemirror_mode": {
    "name": "ipython",
    "version": 3
   },
   "file_extension": ".py",
   "mimetype": "text/x-python",
   "name": "python",
   "nbconvert_exporter": "python",
   "pygments_lexer": "ipython3",
   "version": "3.10.6"
  },
  "toc-autonumbering": true
 },
 "nbformat": 4,
 "nbformat_minor": 5
}
