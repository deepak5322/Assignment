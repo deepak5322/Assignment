{
 "cells": [
  {
   "cell_type": "markdown",
   "id": "e67b18c7-42bc-4ab7-9235-66e581f4ef8c",
   "metadata": {},
   "source": [
    "#### 1. What does an empty dictionary&#39;s code look like?"
   ]
  },
  {
   "cell_type": "code",
   "execution_count": 1,
   "id": "38ad1718-e483-45b1-a44c-4c3316678313",
   "metadata": {},
   "outputs": [],
   "source": [
    "emptyDict = {}"
   ]
  },
  {
   "cell_type": "markdown",
   "id": "c5e5a39a-137b-4434-9cad-10c2339b505e",
   "metadata": {},
   "source": [
    "#### 2. What is the value of a dictionary value with the key &#39;foo&#39; and the value 42?"
   ]
  },
  {
   "cell_type": "code",
   "execution_count": 2,
   "id": "3067b4a3-36ea-47bc-b7fe-99f14a1ae923",
   "metadata": {},
   "outputs": [],
   "source": [
    "# value = 42"
   ]
  },
  {
   "cell_type": "markdown",
   "id": "a21188a7-9ffe-40b4-bbdf-3b10ca7da685",
   "metadata": {},
   "source": [
    "#### 3. What is the most significant distinction between a dictionary and a list?"
   ]
  },
  {
   "cell_type": "markdown",
   "id": "f60e7114-27a7-4603-ab6e-7602b04338a9",
   "metadata": {},
   "source": [
    "#### most significant distinction b/w a dictionary and a list is that list are ordered while dictionary are unordered."
   ]
  },
  {
   "cell_type": "markdown",
   "id": "625dbd27-eece-4e44-b0f9-186f1c28c90d",
   "metadata": {},
   "source": [
    "#### 4. What happens if you try to access spam[&#39;foo&#39;] if spam is {&#39;bar&#39;: 100}?"
   ]
  },
  {
   "cell_type": "code",
   "execution_count": 3,
   "id": "e8d23868-24fc-478f-8015-729282ce13dd",
   "metadata": {},
   "outputs": [
    {
     "ename": "KeyError",
     "evalue": "'foo'",
     "output_type": "error",
     "traceback": [
      "\u001b[0;31m---------------------------------------------------------------------------\u001b[0m",
      "\u001b[0;31mKeyError\u001b[0m                                  Traceback (most recent call last)",
      "Cell \u001b[0;32mIn [3], line 2\u001b[0m\n\u001b[1;32m      1\u001b[0m spam \u001b[38;5;241m=\u001b[39m {\u001b[38;5;124m'\u001b[39m\u001b[38;5;124mbar\u001b[39m\u001b[38;5;124m'\u001b[39m:\u001b[38;5;241m100\u001b[39m}\n\u001b[0;32m----> 2\u001b[0m \u001b[43mspam\u001b[49m\u001b[43m[\u001b[49m\u001b[38;5;124;43m'\u001b[39;49m\u001b[38;5;124;43mfoo\u001b[39;49m\u001b[38;5;124;43m'\u001b[39;49m\u001b[43m]\u001b[49m\n",
      "\u001b[0;31mKeyError\u001b[0m: 'foo'"
     ]
    }
   ],
   "source": [
    "spam = {'bar':100}\n",
    "spam['foo']"
   ]
  },
  {
   "cell_type": "code",
   "execution_count": 4,
   "id": "dceb6bd7-0f18-49ae-b845-839c12c6252f",
   "metadata": {},
   "outputs": [],
   "source": [
    "#error accur becouse 'foo' key is not there in spam."
   ]
  },
  {
   "cell_type": "markdown",
   "id": "1434b8b8-ef14-4a6a-ae76-33fedadf179c",
   "metadata": {},
   "source": [
    "#### 5. If a dictionary is stored in spam, what is the difference between the expressions &#39;cat&#39; in spam and &#39;cat&#39; in spam.keys()?'cat' in spam"
   ]
  },
  {
   "cell_type": "code",
   "execution_count": 14,
   "id": "16fcf594-fd1e-4f94-9113-3fb3ecdaba63",
   "metadata": {},
   "outputs": [],
   "source": [
    " # 'cat' in spam tells if 'cat' is present as a key.  and 'cat' in spam.keys returns true if 'cat' is present as  a key."
   ]
  },
  {
   "cell_type": "markdown",
   "id": "5536009b-689a-49e3-af5f-9035a0db2fc6",
   "metadata": {},
   "source": [
    "#### 6. If a dictionary is stored in spam, what is the difference between the expressions &#39;cat&#39; in spam and &#39;cat&#39; in spam.values()?"
   ]
  },
  {
   "cell_type": "markdown",
   "id": "6cdc03d0-3264-46b3-8600-bc9b9c0f7ba8",
   "metadata": {},
   "source": [
    "#### 'cat' in spam returns True if cat is present as a key. 'cat' in spam.values() returns True if cat is present as a value."
   ]
  },
  {
   "cell_type": "markdown",
   "id": "3cc46a6b-e2d3-4dc1-9f42-561220824ca9",
   "metadata": {},
   "source": [
    "#### 7. What is a shortcut for the following code? \n",
    "if &#39;color&#39; not in spam:\n",
    "\n",
    "spam[&#39;color&#39;] = &#39;black&#39;"
   ]
  },
  {
   "cell_type": "markdown",
   "id": "bf4350c4-9a89-440d-b5d3-2cd1cc664486",
   "metadata": {},
   "source": [
    "#### spam['color']='black' if color not in spam"
   ]
  },
  {
   "cell_type": "markdown",
   "id": "f4f146c0-cbc7-42cb-86bb-884bf23c1970",
   "metadata": {},
   "source": [
    "#### 8. How do you &quot;pretty print&quot; dictionary values using which module and function?"
   ]
  },
  {
   "cell_type": "code",
   "execution_count": 15,
   "id": "8349d0a9-3042-405a-bac7-b3b24f54b210",
   "metadata": {},
   "outputs": [],
   "source": [
    "# using for loop."
   ]
  },
  {
   "cell_type": "code",
   "execution_count": null,
   "id": "d874b340-82b5-434e-97af-ac770178eef9",
   "metadata": {},
   "outputs": [],
   "source": []
  }
 ],
 "metadata": {
  "kernelspec": {
   "display_name": "Python 3 (ipykernel)",
   "language": "python",
   "name": "python3"
  },
  "language_info": {
   "codemirror_mode": {
    "name": "ipython",
    "version": 3
   },
   "file_extension": ".py",
   "mimetype": "text/x-python",
   "name": "python",
   "nbconvert_exporter": "python",
   "pygments_lexer": "ipython3",
   "version": "3.10.6"
  }
 },
 "nbformat": 4,
 "nbformat_minor": 5
}
