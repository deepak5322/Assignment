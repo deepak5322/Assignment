{
 "cells": [
  {
   "cell_type": "markdown",
   "id": "623da6d9",
   "metadata": {},
   "source": [
    "# FSDS 2.0 Assignment_01\n",
    "                                                                                                               "
   ]
  },
  {
   "cell_type": "markdown",
   "id": "69e2eb30",
   "metadata": {},
   "source": [
    "## 1. In the below elements which of them are values or an expression? eg:- values can be\n",
    "integer or string and expressions will be mathematical operators.\n",
    "*\n",
    "\n",
    "'hello'\n",
    "\n",
    "-87.8\n",
    "\n",
    "-\n",
    "\n",
    "/\n",
    "\n",
    "+\n",
    "\n",
    "6"
   ]
  },
  {
   "cell_type": "markdown",
   "id": "7e3c8d9a",
   "metadata": {},
   "source": [
    "### values or expression : 'hello' , -87.8 , 6"
   ]
  },
  {
   "cell_type": "markdown",
   "id": "03593819",
   "metadata": {},
   "source": [
    "## 2. What is the difference between string and variable?\n"
   ]
  },
  {
   "cell_type": "markdown",
   "id": "fad2914b",
   "metadata": {},
   "source": [
    "###  A string is a data type in python while a variable is a symbolic name that is a reference  to an object.\n"
   ]
  },
  {
   "cell_type": "markdown",
   "id": "4644cc9f",
   "metadata": {},
   "source": [
    "## 3. Describe three different data types."
   ]
  },
  {
   "cell_type": "markdown",
   "id": "c583cbdd",
   "metadata": {},
   "source": [
    "###  1. string : it is text type od data type. Strings are surrounded by either single quotation marks, or double quotation marks. exampe : \"hello\",'hello',\"132\" etc.\n",
    "### 2. numeric data types : \n",
    "#### (a). int : integer data type. Example :11,65,86467,1000\n",
    "#### (b). float : Float, or \"floating point number\" is a number, positive or negative, containing decimals. example : 12.3, 10.0, 11.11125\n",
    "#### (c) complex : Complex numbers are written with a \"j\" as the imaginary part. example : 2+3j, 5j\n",
    "### 3. bool : Booleans represent one of two values: True or False."
   ]
  },
  {
   "cell_type": "markdown",
   "id": "b3126797",
   "metadata": {},
   "source": [
    "### 4. What is an expression made up of? What do all expressions do?\n",
    "#### An expression is made up of some variables and sonme constants with some mathematical operations."
   ]
  },
  {
   "cell_type": "markdown",
   "id": "bbe74a07",
   "metadata": {},
   "source": [
    "### 5. This assignment statements, like spam = 10. What is the difference between an expression and a statement?\n",
    "#### Statements represent an action or command e.g print statements, assignment statements. Expression is a combination of variables, operations and values that yields a result value."
   ]
  },
  {
   "cell_type": "markdown",
   "id": "ae635362",
   "metadata": {},
   "source": [
    "### 6. After running the following code, what does the variable bacon contain?\n",
    "bacon = 22\n",
    "\n",
    "bacon + 1"
   ]
  },
  {
   "cell_type": "code",
   "execution_count": 14,
   "id": "d16b0867",
   "metadata": {},
   "outputs": [
    {
     "data": {
      "text/plain": [
       "23"
      ]
     },
     "execution_count": 14,
     "metadata": {},
     "output_type": "execute_result"
    }
   ],
   "source": [
    "bacon = 22\n",
    "\n",
    "bacon + 1"
   ]
  },
  {
   "cell_type": "markdown",
   "id": "b7dd600a",
   "metadata": {},
   "source": [
    "### 7. What should the values of the following two terms be?\n",
    "\n",
    "&#39;spam&#39; + &#39;spamspam&#39;\n",
    "\n",
    "&#39;spam&#39; * 3"
   ]
  },
  {
   "cell_type": "code",
   "execution_count": 15,
   "id": "663f5fca",
   "metadata": {},
   "outputs": [
    {
     "data": {
      "text/plain": [
       "'spamspamspam'"
      ]
     },
     "execution_count": 15,
     "metadata": {},
     "output_type": "execute_result"
    }
   ],
   "source": [
    "'spam' + 'spamspam'\n",
    "\n",
    "'spam' * 3"
   ]
  },
  {
   "cell_type": "markdown",
   "id": "c4f54318",
   "metadata": {},
   "source": [
    "### 8. Why is eggs a valid variable name while 100 is invalid?\n",
    "\n",
    "eggs is a valid variable name because variable name can start with alphabets while 100 is invalid because it is starting with numeric value."
   ]
  },
  {
   "cell_type": "markdown",
   "id": "5e3aa1ae",
   "metadata": {},
   "source": [
    "### 9. What three functions can be used to get the integer, floating-point number, or string version of a value?\n",
    "1. int() - constructs an integer number from an integer literal, a float literal (by removing all decimals), or a string literal (providing the string represents a whole number)\n",
    "2. float() - constructs a float number from an integer literal, a float literal or a string literal (providing the string represents a float or an integer)\n",
    "3. str() - constructs a string from a wide variety of data types, including strings, integer literals and float literals\n"
   ]
  },
  {
   "cell_type": "markdown",
   "id": "192b2ab0",
   "metadata": {},
   "source": [
    "### 10. Why does this expression cause an error? How can you fix it?\n",
    "'I have eaten' + 99 + 'burritos.'\n"
   ]
  },
  {
   "cell_type": "code",
   "execution_count": 16,
   "id": "b61ab0af",
   "metadata": {},
   "outputs": [
    {
     "data": {
      "text/plain": [
       "'I have eaten99burritos.'"
      ]
     },
     "execution_count": 16,
     "metadata": {},
     "output_type": "execute_result"
    }
   ],
   "source": [
    "# this expression is causing an error because we are adding strings to a numeric constant that is not allowed in python.\n",
    "#To fix this problrm convert 99 to string.\n",
    "'I have eaten' + '99'+ 'burritos.'"
   ]
  },
  {
   "cell_type": "code",
   "execution_count": null,
   "id": "86c7111d",
   "metadata": {},
   "outputs": [],
   "source": []
  }
 ],
 "metadata": {
  "kernelspec": {
   "display_name": "Python 3 (ipykernel)",
   "language": "python",
   "name": "python3"
  },
  "language_info": {
   "codemirror_mode": {
    "name": "ipython",
    "version": 3
   },
   "file_extension": ".py",
   "mimetype": "text/x-python",
   "name": "python",
   "nbconvert_exporter": "python",
   "pygments_lexer": "ipython3",
   "version": "3.9.12"
  }
 },
 "nbformat": 4,
 "nbformat_minor": 5
}
