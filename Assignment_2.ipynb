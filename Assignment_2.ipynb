{
 "cells": [
  {
   "cell_type": "markdown",
   "id": "a224702d",
   "metadata": {},
   "source": [
    "# Assignment_2"
   ]
  },
  {
   "cell_type": "markdown",
   "id": "1de91ac4",
   "metadata": {},
   "source": [
    "### 1.What are the two values of the Boolean data type? How do you write them?"
   ]
  },
  {
   "cell_type": "markdown",
   "id": "cd7cc268",
   "metadata": {},
   "source": [
    "#### Boolean data type can have values as True or False ."
   ]
  },
  {
   "cell_type": "markdown",
   "id": "4f2d3020",
   "metadata": {},
   "source": [
    "### 2. What are the three different types of Boolean operators?"
   ]
  },
  {
   "cell_type": "markdown",
   "id": "c898082c",
   "metadata": {},
   "source": [
    "#### Three types of boolean operators : and , not , or "
   ]
  },
  {
   "cell_type": "markdown",
   "id": "11970fbd",
   "metadata": {},
   "source": [
    "### 3. Make a list of each Boolean operator&#39;s truth tables (i.e. every possible combination of Boolean values for the operator and what it evaluate ).\n"
   ]
  },
  {
   "cell_type": "markdown",
   "id": "d75215fd",
   "metadata": {},
   "source": [
    "a = True              \n",
    "b = True\n",
    "\n",
    "a and b -> True\n",
    "a or b  -> True \n",
    "not a   -> False\n",
    "not b   -> False"
   ]
  },
  {
   "cell_type": "markdown",
   "id": "02b033c9",
   "metadata": {},
   "source": [
    "a = True              \n",
    "b = False\n",
    "\n",
    "a and b -> False\n",
    "a or b  -> True \n",
    "not a   -> False\n",
    "not b   -> True"
   ]
  },
  {
   "cell_type": "markdown",
   "id": "bf97f2b4",
   "metadata": {},
   "source": [
    "a = False             \n",
    "b = True\n",
    "\n",
    "a and b -> False\n",
    "a or b  -> True \n",
    "not a   -> True\n",
    "not b   -> False"
   ]
  },
  {
   "cell_type": "markdown",
   "id": "f5222226",
   "metadata": {},
   "source": [
    "a = False              \n",
    "b = False\n",
    "\n",
    "a and b -> False\n",
    "a or b  -> False\n",
    "not a   -> True\n",
    "not b   -> True"
   ]
  },
  {
   "cell_type": "markdown",
   "id": "33cefea6",
   "metadata": {},
   "source": [
    "### 4. What are the values of the following expressions?"
   ]
  },
  {
   "cell_type": "code",
   "execution_count": 10,
   "id": "d69e9da2",
   "metadata": {},
   "outputs": [
    {
     "data": {
      "text/plain": [
       "False"
      ]
     },
     "execution_count": 10,
     "metadata": {},
     "output_type": "execute_result"
    }
   ],
   "source": [
    "(5 > 4) and (3 == 5)"
   ]
  },
  {
   "cell_type": "code",
   "execution_count": 11,
   "id": "3013cbf6",
   "metadata": {},
   "outputs": [
    {
     "data": {
      "text/plain": [
       "False"
      ]
     },
     "execution_count": 11,
     "metadata": {},
     "output_type": "execute_result"
    }
   ],
   "source": [
    "not (5 > 4)"
   ]
  },
  {
   "cell_type": "code",
   "execution_count": 12,
   "id": "a82afe0d",
   "metadata": {},
   "outputs": [
    {
     "data": {
      "text/plain": [
       "True"
      ]
     },
     "execution_count": 12,
     "metadata": {},
     "output_type": "execute_result"
    }
   ],
   "source": [
    "(5 > 4) or (3 == 5)"
   ]
  },
  {
   "cell_type": "code",
   "execution_count": 13,
   "id": "43be72db",
   "metadata": {},
   "outputs": [
    {
     "data": {
      "text/plain": [
       "False"
      ]
     },
     "execution_count": 13,
     "metadata": {},
     "output_type": "execute_result"
    }
   ],
   "source": [
    "not ((5 > 4) or (3 == 5))"
   ]
  },
  {
   "cell_type": "code",
   "execution_count": 14,
   "id": "7f2500c7",
   "metadata": {},
   "outputs": [
    {
     "data": {
      "text/plain": [
       "False"
      ]
     },
     "execution_count": 14,
     "metadata": {},
     "output_type": "execute_result"
    }
   ],
   "source": [
    "(True and True) and (True == False)"
   ]
  },
  {
   "cell_type": "code",
   "execution_count": 15,
   "id": "b5adea77",
   "metadata": {},
   "outputs": [
    {
     "data": {
      "text/plain": [
       "True"
      ]
     },
     "execution_count": 15,
     "metadata": {},
     "output_type": "execute_result"
    }
   ],
   "source": [
    "(not False) or (not True)"
   ]
  },
  {
   "cell_type": "markdown",
   "id": "a1b5bb79",
   "metadata": {},
   "source": [
    "### 5. What are the six comparison operators?"
   ]
  },
  {
   "cell_type": "markdown",
   "id": "bd9f2303",
   "metadata": {},
   "source": [
    "Operator          Name\n",
    "\n",
    "==                equal to\n",
    "!=                not equal to\n",
    "<                 less than\n",
    "<=                less than equal to\n",
    ">                 greater than\n",
    ">=                greater than equal to"
   ]
  },
  {
   "cell_type": "markdown",
   "id": "935df83f",
   "metadata": {},
   "source": [
    "### 6. How do you tell the difference between the equal to and assignment operators?Describe a condition and when you would use one.\n"
   ]
  },
  {
   "cell_type": "markdown",
   "id": "72474e4e",
   "metadata": {},
   "source": [
    "#### Equal to operator(==) compares the given values if they are equal or not. While assignment operator(=) assign the values to the variables\n"
   ]
  },
  {
   "cell_type": "markdown",
   "id": "1954005f",
   "metadata": {},
   "source": [
    "### 7. Identify the three blocks in this code:\n",
    "spam = 0\n",
    "if spam == 10:\n",
    "    print('eggs')\n",
    "    if spam > 5:\n",
    "        print('bacon')\n",
    "    else:\n",
    "        print('ham')\n",
    "print('spam')\n",
    "print('spam')\n",
    "\n",
    "#### 1st block : if spam ==10\n",
    "#### 2nd block : if spam >5\n",
    "#### 3rd block : else:"
   ]
  },
  {
   "cell_type": "markdown",
   "id": "f706594b",
   "metadata": {},
   "source": [
    "### 8. Write code that prints Hello if 1 is stored in spam, prints Howdy if 2 is stored in spam, and prints Greetings! if anything else is stored in spam.\n"
   ]
  },
  {
   "cell_type": "code",
   "execution_count": 26,
   "id": "6d7ee717",
   "metadata": {},
   "outputs": [
    {
     "name": "stdout",
     "output_type": "stream",
     "text": [
      "ennter a number 2\n",
      "Howdy\n"
     ]
    }
   ],
   "source": [
    "spam = int(input(\"ennter a number \"))\n",
    "if spam == 1:\n",
    "    print('Hello')\n",
    "elif spam == 2 :\n",
    "    print('Howdy')\n",
    "else:\n",
    "    print('Greetings1!')"
   ]
  },
  {
   "cell_type": "markdown",
   "id": "06da6a47",
   "metadata": {},
   "source": [
    "### 9.If your programme is stuck in an endless loop, what keys you’ll press?\n",
    "CTRL + C"
   ]
  },
  {
   "cell_type": "markdown",
   "id": "876ca2f5",
   "metadata": {},
   "source": [
    "### 10. How can you tell the difference between break and continue?\n",
    "break : leaves the loop. skip the remaining execution of the complete loop.\n",
    "\n",
    "continue : jumps for the next iteration. skip the execution of the remaining statementsinside the loop for the current iteration."
   ]
  },
  {
   "cell_type": "code",
   "execution_count": 29,
   "id": "a0f262e1",
   "metadata": {},
   "outputs": [
    {
     "name": "stdout",
     "output_type": "stream",
     "text": [
      "1\n",
      "2\n",
      "3\n"
     ]
    }
   ],
   "source": [
    "# Example \n",
    "numbers = [1,2,3,4,5,6,7,8]\n",
    "for i in numbers:\n",
    "    if i==4:\n",
    "        break\n",
    "    print(i)\n",
    "    "
   ]
  },
  {
   "cell_type": "code",
   "execution_count": 30,
   "id": "e6e8ff40",
   "metadata": {},
   "outputs": [
    {
     "name": "stdout",
     "output_type": "stream",
     "text": [
      "1\n",
      "2\n",
      "3\n",
      "5\n",
      "6\n",
      "7\n",
      "8\n"
     ]
    }
   ],
   "source": [
    "for i in numbers:\n",
    "    if i == 4 :\n",
    "        continue\n",
    "    print(i)"
   ]
  },
  {
   "cell_type": "markdown",
   "id": "84f97bb8",
   "metadata": {},
   "source": [
    "### 11. In a for loop, what is the difference between range(10), range(0, 10), and range(0, 10, 1)?"
   ]
  },
  {
   "cell_type": "markdown",
   "id": "8e8de45b",
   "metadata": {},
   "source": [
    "#### range(10) : When the user call range(10)  the user will get a series of numbers that starts at 0 and includes every whole number up to 9.The loop will stop at 10.\n",
    "#### range(0,10) : When the user call range() with two arguments, the user gets to decide not only where the series of numbers stops but also where it starts, so the user don’t have to start at 0 all the time. Here we will get a series of numbers stsrting from 0 to 9.\n",
    "#### range(0, 10, 1) : range (start, stop, step) - with three we get starting number, ending number and also the difference between the two consecituve numbers. for the given example the starting number is 0, last printed number will be 9 with 1 step between any two consecutive numbers.\n",
    "\n"
   ]
  },
  {
   "cell_type": "markdown",
   "id": "72bb636a",
   "metadata": {},
   "source": [
    "### 12. Write a short program that prints the numbers 1 to 10 using a for loop. Then write an equivalent program that prints the numbers 1 to 10 using a while loop.\n"
   ]
  },
  {
   "cell_type": "code",
   "execution_count": 5,
   "id": "bca6cd2e",
   "metadata": {},
   "outputs": [
    {
     "name": "stdout",
     "output_type": "stream",
     "text": [
      "1 2 3 4 5 6 7 8 9 10 "
     ]
    }
   ],
   "source": [
    "#  using for loop\n",
    "for i in range(1, 11):\n",
    "    print(i, end=\" \")\n"
   ]
  },
  {
   "cell_type": "code",
   "execution_count": 6,
   "id": "838eddde",
   "metadata": {},
   "outputs": [
    {
     "name": "stdout",
     "output_type": "stream",
     "text": [
      "1 2 3 4 5 6 7 8 9 10 "
     ]
    }
   ],
   "source": [
    "# using while loop\n",
    "i = 1\n",
    "while i < 11:\n",
    "  print(i,end=\" \")\n",
    "  i += 1"
   ]
  },
  {
   "cell_type": "markdown",
   "id": "5952a5e0",
   "metadata": {},
   "source": [
    "### 13. If you had a function named bacon() inside a module named spam, how would you call it after importing spam?\n"
   ]
  },
  {
   "cell_type": "markdown",
   "id": "69f68fb9",
   "metadata": {},
   "source": [
    "#### spam.bacon()"
   ]
  },
  {
   "cell_type": "code",
   "execution_count": null,
   "id": "8deb74a6",
   "metadata": {},
   "outputs": [],
   "source": []
  }
 ],
 "metadata": {
  "kernelspec": {
   "display_name": "Python 3 (ipykernel)",
   "language": "python",
   "name": "python3"
  },
  "language_info": {
   "codemirror_mode": {
    "name": "ipython",
    "version": 3
   },
   "file_extension": ".py",
   "mimetype": "text/x-python",
   "name": "python",
   "nbconvert_exporter": "python",
   "pygments_lexer": "ipython3",
   "version": "3.9.12"
  }
 },
 "nbformat": 4,
 "nbformat_minor": 5
}
