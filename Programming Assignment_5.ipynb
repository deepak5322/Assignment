{
 "cells": [
  {
   "cell_type": "markdown",
   "id": "19b3e407-16cc-413f-b0da-343049ac967d",
   "metadata": {},
   "source": [
    "### 1. Write a Python Program to Find LCM?"
   ]
  },
  {
   "cell_type": "code",
   "execution_count": 4,
   "id": "23cfc202-b761-4ea7-a2b8-c50adea4eaaf",
   "metadata": {},
   "outputs": [],
   "source": [
    "def compute_lcm(x, y):\n",
    "\n",
    "   # choose the greater number\n",
    "   if x > y:\n",
    "       greater = x\n",
    "   else:\n",
    "       greater = y\n",
    "\n",
    "   while(True):\n",
    "       if((greater % x == 0) and (greater % y == 0)):\n",
    "           lcm = greater\n",
    "           break\n",
    "       greater += 1\n",
    "\n",
    "   return lcm\n",
    "\n",
    "#print(\"The L.C.M. is\", compute_lcm(x,y))"
   ]
  },
  {
   "cell_type": "code",
   "execution_count": 5,
   "id": "ac377910-9588-45a5-847f-6069b1d908b0",
   "metadata": {},
   "outputs": [
    {
     "data": {
      "text/plain": [
       "15"
      ]
     },
     "execution_count": 5,
     "metadata": {},
     "output_type": "execute_result"
    }
   ],
   "source": [
    "compute_lcm(5,3)"
   ]
  },
  {
   "cell_type": "markdown",
   "id": "e666864d-ebe8-47c4-b7be-ccdc51c00722",
   "metadata": {},
   "source": [
    "### 2. Write a Python Program to Find HCF?"
   ]
  },
  {
   "cell_type": "code",
   "execution_count": 12,
   "id": "5d3808fa-3e7c-4e51-b92c-b4dd91b601eb",
   "metadata": {},
   "outputs": [],
   "source": [
    "def compute_HCF(x,y):\n",
    "    if x>y:\n",
    "        smaller=x\n",
    "    else:\n",
    "        smaller=y\n",
    "    for i in range(2,smaller+1):\n",
    "        if (x%i==0) and (y%i==0):\n",
    "            hcf = i\n",
    "        return hcf"
   ]
  },
  {
   "cell_type": "code",
   "execution_count": 13,
   "id": "9d431b36-4dcc-4892-95c2-6827c5c7c6b0",
   "metadata": {},
   "outputs": [
    {
     "data": {
      "text/plain": [
       "2"
      ]
     },
     "execution_count": 13,
     "metadata": {},
     "output_type": "execute_result"
    }
   ],
   "source": [
    "compute_HCF(16,32)"
   ]
  },
  {
   "cell_type": "code",
   "execution_count": 14,
   "id": "2a618b72-9d1b-46f5-bf46-636b6571872e",
   "metadata": {},
   "outputs": [
    {
     "data": {
      "text/plain": [
       "2"
      ]
     },
     "execution_count": 14,
     "metadata": {},
     "output_type": "execute_result"
    }
   ],
   "source": [
    "compute_HCF(24,54)"
   ]
  },
  {
   "cell_type": "code",
   "execution_count": 15,
   "id": "15a32dce-8e5e-4a68-83c1-b9eba3c5fcf1",
   "metadata": {},
   "outputs": [
    {
     "name": "stdout",
     "output_type": "stream",
     "text": [
      "The H.C.F of 30 and 14 = 2\n"
     ]
    }
   ],
   "source": [
    "# input number 1\n",
    "inputNumber_1 = 30\n",
    "# input number 2\n",
    "inputNumber_2 = 14\n",
    "# checking whether the first number is greater than\n",
    "# the second one\n",
    "if inputNumber_1 > inputNumber_2:\n",
    "   # assigning the second number as a smaller number\n",
    "   small_num = inputNumber_2\n",
    "else:\n",
    "   # else assigning the first number as a smaller number\n",
    "   small_num = inputNumber_1\n",
    "# traversing from 1 to the small number range\n",
    "for i in range(1, small_num+1):\n",
    "   # checking whether both the first and second numbers divide exactly by index (i)\n",
    "   if((inputNumber_1 % i == 0) and (inputNumber_2 % i == 0)):\n",
    "      # assigning the index(i) value as HCF if the condition is true\n",
    "      resultHcf = i\n",
    "# printing the HCF of input number 1 & input number 2\n",
    "print(\"The H.C.F of\", inputNumber_1, \"and\", inputNumber_2, \"=\", resultHcf)"
   ]
  },
  {
   "cell_type": "markdown",
   "id": "3bef0999-1a4f-4654-a9c4-0224c1a349c5",
   "metadata": {},
   "source": [
    "### 3. Write a Python Program to Convert Decimal to Binary, Octal and Hexadecimal?"
   ]
  },
  {
   "cell_type": "code",
   "execution_count": 16,
   "id": "8a9ac229-1f20-47fc-95d8-0453f0d97fdd",
   "metadata": {},
   "outputs": [
    {
     "name": "stdout",
     "output_type": "stream",
     "text": [
      "The decimal value of 344 is:\n",
      "0b101011000 in binary.\n",
      "0o530 in octal.\n",
      "0x158 in hexadecimal.\n"
     ]
    }
   ],
   "source": [
    "# Python program to convert decimal into other number systems\n",
    "dec = 344\n",
    "\n",
    "print(\"The decimal value of\", dec, \"is:\")\n",
    "print(bin(dec), \"in binary.\")\n",
    "print(oct(dec), \"in octal.\")\n",
    "print(hex(dec), \"in hexadecimal.\")\n"
   ]
  },
  {
   "cell_type": "markdown",
   "id": "e122bd75-b4c4-46cc-be60-4146d3d0b3a6",
   "metadata": {},
   "source": [
    "### 4. Write a Python Program To Find ASCII value of a character?"
   ]
  },
  {
   "cell_type": "code",
   "execution_count": 17,
   "id": "a68c36bd-d28c-47c3-8998-93615991294a",
   "metadata": {},
   "outputs": [
    {
     "name": "stdout",
     "output_type": "stream",
     "text": [
      "The ASCII value of 'p' is 112\n"
     ]
    }
   ],
   "source": [
    "c = 'p'\n",
    "print(\"The ASCII value of '\" + c + \"' is\", ord(c))\n"
   ]
  },
  {
   "cell_type": "markdown",
   "id": "eea8c83e-13d1-41bf-bf19-d81bd174672c",
   "metadata": {},
   "source": [
    "### 5. Write a Python Program to Make a Simple Calculator with 4 basic mathematical operations?"
   ]
  },
  {
   "cell_type": "code",
   "execution_count": null,
   "id": "510f8bb0-93fe-409a-8915-1799cb542dff",
   "metadata": {},
   "outputs": [],
   "source": []
  }
 ],
 "metadata": {
  "kernelspec": {
   "display_name": "Python 3 (ipykernel)",
   "language": "python",
   "name": "python3"
  },
  "language_info": {
   "codemirror_mode": {
    "name": "ipython",
    "version": 3
   },
   "file_extension": ".py",
   "mimetype": "text/x-python",
   "name": "python",
   "nbconvert_exporter": "python",
   "pygments_lexer": "ipython3",
   "version": "3.10.6"
  }
 },
 "nbformat": 4,
 "nbformat_minor": 5
}
